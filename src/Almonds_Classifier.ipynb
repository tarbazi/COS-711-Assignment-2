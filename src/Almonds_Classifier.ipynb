{
 "cells": [
  {
   "cell_type": "code",
   "execution_count": 15,
   "metadata": {},
   "outputs": [
    {
     "name": "stdout",
     "output_type": "stream",
     "text": [
      "['MAMRA' 'SANORA' 'REGULAR']\n",
      "<class 'pandas.core.frame.DataFrame'>\n"
     ]
    }
   ],
   "source": [
    "#Bazi Mathangeni\n",
    "#22/09/2024\n",
    "\n",
    "import pandas as pd\n",
    "\n",
    "myData = pd.read_csv(\"../input_data/Almond.csv\")\n",
    "\n",
    "print(myData[\"Type\"].unique())\n",
    "print(type(myData))\n",
    "\n",
    "myData.head()"
   ]
  }
 ],
 "metadata": {
  "kernelspec": {
   "display_name": "Python 3",
   "language": "python",
   "name": "python3"
  },
  "language_info": {
   "codemirror_mode": {
    "name": "ipython",
    "version": 3
   },
   "file_extension": ".py",
   "mimetype": "text/x-python",
   "name": "python",
   "nbconvert_exporter": "python",
   "pygments_lexer": "ipython3",
   "version": "3.11.5"
  }
 },
 "nbformat": 4,
 "nbformat_minor": 2
}
